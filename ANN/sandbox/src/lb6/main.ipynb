{
  "nbformat": 4,
  "nbformat_minor": 0,
  "metadata": {
    "kernelspec": {
      "display_name": "NN_conda",
      "language": "python",
      "name": "nn_conda"
    },
    "language_info": {
      "codemirror_mode": {
        "name": "ipython",
        "version": 3
      },
      "file_extension": ".py",
      "mimetype": "text/x-python",
      "name": "python",
      "nbconvert_exporter": "python",
      "pygments_lexer": "ipython3",
      "version": "3.8.8"
    },
    "colab": {
      "name": "Untitled1.ipynb",
      "provenance": []
    },
    "accelerator": "GPU"
  },
  "cells": [
    {
      "cell_type": "code",
      "metadata": {
        "id": "_y6vDUak8GVz"
      },
      "source": [
        "import matplotlib\n",
        "import matplotlib.pyplot as plt\n",
        "import numpy as np\n",
        "from keras.utils import to_categorical\n",
        "from keras import models\n",
        "from keras import layers\n"
      ],
      "execution_count": 1,
      "outputs": []
    },
    {
      "cell_type": "code",
      "metadata": {
        "id": "1SrXWXFE8GWB",
        "colab": {
          "base_uri": "https://localhost:8080/"
        },
        "outputId": "2a5efd09-b14c-4821-8056-126eb69c616d"
      },
      "source": [
        "from keras.datasets import imdb\n",
        "\n",
        "(training_data, training_targets), (testing_data, testing_targets) = imdb.load_data(num_words=10000)\n",
        "\n",
        "data = np.concatenate((training_data, testing_data), axis=0)\n",
        "\n",
        "targets = np.concatenate((training_targets, testing_targets), axis=0)"
      ],
      "execution_count": 2,
      "outputs": [
        {
          "output_type": "stream",
          "text": [
            "<string>:6: VisibleDeprecationWarning: Creating an ndarray from ragged nested sequences (which is a list-or-tuple of lists-or-tuples-or ndarrays with different lengths or shapes) is deprecated. If you meant to do this, you must specify 'dtype=object' when creating the ndarray\n",
            "/usr/local/lib/python3.7/dist-packages/tensorflow/python/keras/datasets/imdb.py:159: VisibleDeprecationWarning: Creating an ndarray from ragged nested sequences (which is a list-or-tuple of lists-or-tuples-or ndarrays with different lengths or shapes) is deprecated. If you meant to do this, you must specify 'dtype=object' when creating the ndarray\n",
            "  x_train, y_train = np.array(xs[:idx]), np.array(labels[:idx])\n",
            "/usr/local/lib/python3.7/dist-packages/tensorflow/python/keras/datasets/imdb.py:160: VisibleDeprecationWarning: Creating an ndarray from ragged nested sequences (which is a list-or-tuple of lists-or-tuples-or ndarrays with different lengths or shapes) is deprecated. If you meant to do this, you must specify 'dtype=object' when creating the ndarray\n",
            "  x_test, y_test = np.array(xs[idx:]), np.array(labels[idx:])\n"
          ],
          "name": "stderr"
        }
      ]
    },
    {
      "cell_type": "code",
      "metadata": {
        "id": "2B5HuKw_8GWF",
        "colab": {
          "base_uri": "https://localhost:8080/"
        },
        "outputId": "b9547696-e1f4-4427-d810-88ae045581c2"
      },
      "source": [
        "print(\"Categories:\", np.unique(targets))\n",
        "print(\"Number of unique words:\", len(np.unique(np.hstack(data))))"
      ],
      "execution_count": 3,
      "outputs": [
        {
          "output_type": "stream",
          "text": [
            "Categories: [0 1]\n",
            "Number of unique words: 9998\n"
          ],
          "name": "stdout"
        }
      ]
    },
    {
      "cell_type": "code",
      "metadata": {
        "id": "EBZ7teaa8GWG",
        "colab": {
          "base_uri": "https://localhost:8080/"
        },
        "outputId": "34ab2f8b-7004-4ef7-ca0a-cd3a0d2abc11"
      },
      "source": [
        "length = [len(i) for i in data]\n",
        "print(\"Average Review length:\", np.mean(length))\n",
        "print(\"Standard Deviation:\", round(np.std(length)))"
      ],
      "execution_count": 4,
      "outputs": [
        {
          "output_type": "stream",
          "text": [
            "Average Review length: 234.75892\n",
            "Standard Deviation: 173\n"
          ],
          "name": "stdout"
        }
      ]
    },
    {
      "cell_type": "code",
      "metadata": {
        "id": "iZRPi1Vz8GWI",
        "colab": {
          "base_uri": "https://localhost:8080/"
        },
        "outputId": "9ad3be4e-0417-4189-8d77-de35f299b58e"
      },
      "source": [
        "print(\"Label:\", targets[0])\n",
        "print(data[0])"
      ],
      "execution_count": 5,
      "outputs": [
        {
          "output_type": "stream",
          "text": [
            "Label: 1\n",
            "[1, 14, 22, 16, 43, 530, 973, 1622, 1385, 65, 458, 4468, 66, 3941, 4, 173, 36, 256, 5, 25, 100, 43, 838, 112, 50, 670, 2, 9, 35, 480, 284, 5, 150, 4, 172, 112, 167, 2, 336, 385, 39, 4, 172, 4536, 1111, 17, 546, 38, 13, 447, 4, 192, 50, 16, 6, 147, 2025, 19, 14, 22, 4, 1920, 4613, 469, 4, 22, 71, 87, 12, 16, 43, 530, 38, 76, 15, 13, 1247, 4, 22, 17, 515, 17, 12, 16, 626, 18, 2, 5, 62, 386, 12, 8, 316, 8, 106, 5, 4, 2223, 5244, 16, 480, 66, 3785, 33, 4, 130, 12, 16, 38, 619, 5, 25, 124, 51, 36, 135, 48, 25, 1415, 33, 6, 22, 12, 215, 28, 77, 52, 5, 14, 407, 16, 82, 2, 8, 4, 107, 117, 5952, 15, 256, 4, 2, 7, 3766, 5, 723, 36, 71, 43, 530, 476, 26, 400, 317, 46, 7, 4, 2, 1029, 13, 104, 88, 4, 381, 15, 297, 98, 32, 2071, 56, 26, 141, 6, 194, 7486, 18, 4, 226, 22, 21, 134, 476, 26, 480, 5, 144, 30, 5535, 18, 51, 36, 28, 224, 92, 25, 104, 4, 226, 65, 16, 38, 1334, 88, 12, 16, 283, 5, 16, 4472, 113, 103, 32, 15, 16, 5345, 19, 178, 32]\n"
          ],
          "name": "stdout"
        }
      ]
    },
    {
      "cell_type": "code",
      "metadata": {
        "id": "IMSVU_Pq8GWJ",
        "colab": {
          "base_uri": "https://localhost:8080/"
        },
        "outputId": "645daba3-c122-4161-f570-c2c5ec4f7a10"
      },
      "source": [
        "index = imdb.get_word_index()\n",
        "\n",
        "reverse_index = dict([(value, key) for (key, value) in index.items()])\n",
        "\n",
        "decoded = \" \".join( [reverse_index.get(i - 3, \"#\") for i in data[0]] )\n",
        "\n",
        "print(decoded) \n",
        "print(data[1]) \n",
        "print(len(data[1])) "
      ],
      "execution_count": 6,
      "outputs": [
        {
          "output_type": "stream",
          "text": [
            "# this film was just brilliant casting location scenery story direction everyone's really suited the part they played and you could just imagine being there robert # is an amazing actor and now the same being director # father came from the same scottish island as myself so i loved the fact there was a real connection with this film the witty remarks throughout the film were great it was just brilliant so much that i bought the film as soon as it was released for # and would recommend it to everyone to watch and the fly fishing was amazing really cried at the end it was so sad and you know what they say if you cry at a film it must have been good and this definitely was also # to the two little boy's that played the # of norman and paul they were just brilliant children are often left out of the # list i think because the stars that play them all grown up are such a big profile for the whole film but these children are amazing and should be praised for what they have done don't you think the whole story was so lovely because it was true and was someone's life after all that was shared with us all\n",
            "[1, 194, 1153, 194, 8255, 78, 228, 5, 6, 1463, 4369, 5012, 134, 26, 4, 715, 8, 118, 1634, 14, 394, 20, 13, 119, 954, 189, 102, 5, 207, 110, 3103, 21, 14, 69, 188, 8, 30, 23, 7, 4, 249, 126, 93, 4, 114, 9, 2300, 1523, 5, 647, 4, 116, 9, 35, 8163, 4, 229, 9, 340, 1322, 4, 118, 9, 4, 130, 4901, 19, 4, 1002, 5, 89, 29, 952, 46, 37, 4, 455, 9, 45, 43, 38, 1543, 1905, 398, 4, 1649, 26, 6853, 5, 163, 11, 3215, 2, 4, 1153, 9, 194, 775, 7, 8255, 2, 349, 2637, 148, 605, 2, 8003, 15, 123, 125, 68, 2, 6853, 15, 349, 165, 4362, 98, 5, 4, 228, 9, 43, 2, 1157, 15, 299, 120, 5, 120, 174, 11, 220, 175, 136, 50, 9, 4373, 228, 8255, 5, 2, 656, 245, 2350, 5, 4, 9837, 131, 152, 491, 18, 2, 32, 7464, 1212, 14, 9, 6, 371, 78, 22, 625, 64, 1382, 9, 8, 168, 145, 23, 4, 1690, 15, 16, 4, 1355, 5, 28, 6, 52, 154, 462, 33, 89, 78, 285, 16, 145, 95]\n",
            "189\n"
          ],
          "name": "stdout"
        }
      ]
    },
    {
      "cell_type": "code",
      "metadata": {
        "id": "aqDFyvpE8GWK"
      },
      "source": [
        "\n",
        "def vectorize(sequences, dimension = 10000):\n",
        "    results = np.zeros((len(sequences), dimension))\n",
        "    for i, sequence in enumerate(sequences):\n",
        "        results[i, sequence] = 1\n",
        "    return results\n",
        " \n",
        "data = vectorize(data)\n",
        "\n"
      ],
      "execution_count": 7,
      "outputs": []
    },
    {
      "cell_type": "code",
      "metadata": {
        "id": "NKfWluqIY5fc"
      },
      "source": [
        "targets = np.array(targets).astype(\"float32\")"
      ],
      "execution_count": 8,
      "outputs": []
    },
    {
      "cell_type": "code",
      "metadata": {
        "id": "GlpfcDz7XR9f"
      },
      "source": [
        "# print(data[0])"
      ],
      "execution_count": 9,
      "outputs": []
    },
    {
      "cell_type": "code",
      "metadata": {
        "id": "JP79Stiw8GWL"
      },
      "source": [
        "\n",
        "test_x = data[:10000]\n",
        "test_y = targets[:10000]\n",
        "train_x = data[10000:]\n",
        "train_y = targets[10000:]"
      ],
      "execution_count": 10,
      "outputs": []
    },
    {
      "cell_type": "code",
      "metadata": {
        "id": "aaZUy8yr8GWL",
        "colab": {
          "base_uri": "https://localhost:8080/"
        },
        "outputId": "98cb35a3-5905-4473-a390-224bc1e2d63a"
      },
      "source": [
        "model = models.Sequential()\n",
        "\n",
        "# Input - Layer\n",
        "\n",
        "\n",
        "model.add(layers.Dense(5000, activation = \"relu\", input_shape=(10000, )))\n",
        "\n",
        "# Hidden - Layers\n",
        "model.add(layers.Dropout(0.8, noise_shape=None, seed=None))\n",
        "model.add(layers.Dense(5000, activation = \"relu\"))\n",
        "model.add(layers.Dropout(0.7, noise_shape=None, seed=None))\n",
        "model.add(layers.Dense(1000, activation = \"relu\"))\n",
        "model.add(layers.Dropout(0.7, noise_shape=None, seed=None))\n",
        "model.add(layers.Dense(200, activation = \"relu\"))\n",
        "model.add(layers.Dropout(0.7, noise_shape=None, seed=None))\n",
        "model.add(layers.Dense(40, activation = \"relu\"))\n",
        "model.add(layers.Dropout(0.5, noise_shape=None, seed=None))\n",
        "model.add(layers.Dense(8, activation = \"relu\"))\n",
        "\n",
        "# Output- Layer\n",
        "model.add(layers.Dense(1, activation = \"sigmoid\"))\n",
        "model.summary()"
      ],
      "execution_count": 20,
      "outputs": [
        {
          "output_type": "stream",
          "text": [
            "Model: \"sequential_3\"\n",
            "_________________________________________________________________\n",
            "Layer (type)                 Output Shape              Param #   \n",
            "=================================================================\n",
            "dense_21 (Dense)             (None, 5000)              50005000  \n",
            "_________________________________________________________________\n",
            "dropout_15 (Dropout)         (None, 5000)              0         \n",
            "_________________________________________________________________\n",
            "dense_22 (Dense)             (None, 5000)              25005000  \n",
            "_________________________________________________________________\n",
            "dropout_16 (Dropout)         (None, 5000)              0         \n",
            "_________________________________________________________________\n",
            "dense_23 (Dense)             (None, 1000)              5001000   \n",
            "_________________________________________________________________\n",
            "dropout_17 (Dropout)         (None, 1000)              0         \n",
            "_________________________________________________________________\n",
            "dense_24 (Dense)             (None, 200)               200200    \n",
            "_________________________________________________________________\n",
            "dropout_18 (Dropout)         (None, 200)               0         \n",
            "_________________________________________________________________\n",
            "dense_25 (Dense)             (None, 40)                8040      \n",
            "_________________________________________________________________\n",
            "dropout_19 (Dropout)         (None, 40)                0         \n",
            "_________________________________________________________________\n",
            "dense_26 (Dense)             (None, 8)                 328       \n",
            "_________________________________________________________________\n",
            "dense_27 (Dense)             (None, 1)                 9         \n",
            "=================================================================\n",
            "Total params: 80,219,577\n",
            "Trainable params: 80,219,577\n",
            "Non-trainable params: 0\n",
            "_________________________________________________________________\n"
          ],
          "name": "stdout"
        }
      ]
    },
    {
      "cell_type": "code",
      "metadata": {
        "id": "a4vd47Ih8GWM"
      },
      "source": [
        "model.compile(\n",
        "    optimizer = \"adam\",\n",
        "    loss = \"binary_crossentropy\",\n",
        "    metrics = [\"accuracy\"]\n",
        ")"
      ],
      "execution_count": 21,
      "outputs": []
    },
    {
      "cell_type": "code",
      "metadata": {
        "id": "5DhejqrL8GWN",
        "colab": {
          "base_uri": "https://localhost:8080/"
        },
        "outputId": "7cf5627e-5be7-438f-f2ee-f9abdf904389"
      },
      "source": [
        "results = model.fit(\n",
        "    train_x, train_y,\n",
        "    epochs= 8,\n",
        "    batch_size = 500,\n",
        "    validation_data = (test_x, test_y)\n",
        ")"
      ],
      "execution_count": 22,
      "outputs": [
        {
          "output_type": "stream",
          "text": [
            "Epoch 1/8\n",
            "80/80 [==============================] - 12s 136ms/step - loss: 0.7703 - accuracy: 0.4944 - val_loss: 0.6933 - val_accuracy: 0.4947\n",
            "Epoch 2/8\n",
            "80/80 [==============================] - 10s 131ms/step - loss: 0.6962 - accuracy: 0.5019 - val_loss: 0.6933 - val_accuracy: 0.4947\n",
            "Epoch 3/8\n",
            "80/80 [==============================] - 10s 129ms/step - loss: 0.6941 - accuracy: 0.5104 - val_loss: 0.6875 - val_accuracy: 0.6540\n",
            "Epoch 4/8\n",
            "80/80 [==============================] - 10s 129ms/step - loss: 0.5965 - accuracy: 0.6770 - val_loss: 0.3172 - val_accuracy: 0.8893\n",
            "Epoch 5/8\n",
            "80/80 [==============================] - 10s 131ms/step - loss: 0.3220 - accuracy: 0.8831 - val_loss: 0.2920 - val_accuracy: 0.8939\n",
            "Epoch 6/8\n",
            "80/80 [==============================] - 10s 130ms/step - loss: 0.2443 - accuracy: 0.9115 - val_loss: 0.2581 - val_accuracy: 0.8986\n",
            "Epoch 7/8\n",
            "80/80 [==============================] - 10s 130ms/step - loss: 0.1897 - accuracy: 0.9337 - val_loss: 0.2574 - val_accuracy: 0.8988\n",
            "Epoch 8/8\n",
            "80/80 [==============================] - 10s 130ms/step - loss: 0.1607 - accuracy: 0.9436 - val_loss: 0.2702 - val_accuracy: 0.8977\n"
          ],
          "name": "stdout"
        }
      ]
    },
    {
      "cell_type": "code",
      "metadata": {
        "id": "lOCsboSj8GWQ",
        "colab": {
          "base_uri": "https://localhost:8080/"
        },
        "outputId": "4fcfeb2b-b86f-41a6-9ab0-685562f0bf09"
      },
      "source": [
        "print(results.history.keys())\n",
        "\n",
        "print(np.mean(results.history[\"val_accuracy\"]))"
      ],
      "execution_count": 23,
      "outputs": [
        {
          "output_type": "stream",
          "text": [
            "dict_keys(['loss', 'accuracy', 'val_loss', 'val_accuracy'])\n",
            "0.7652124986052513\n"
          ],
          "name": "stdout"
        }
      ]
    }
  ]
}