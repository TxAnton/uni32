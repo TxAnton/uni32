{
 "cells": [
  {
   "cell_type": "code",
   "execution_count": null,
   "metadata": {
    "id": "F7GySZ0JopIu"
   },
   "outputs": [],
   "source": [
    "\n",
    "from tensorflow.keras.models import Model\n",
    "from tensorflow.keras.layers import Input, Convolution2D, MaxPooling2D, Dense, Dropout, Flatten\n",
    "from tensorflow.keras import utils\n",
    "import numpy as np\n",
    "from sklearn.utils import shuffle\n",
    "from sklearn import preprocessing\n",
    "import pandas\n",
    "le = preprocessing.LabelEncoder()\n",
    "import keras\n",
    "from keras.callbacks import Callback\n",
    "import matplotlib.pyplot as plt\n",
    "\n",
    "import var5\n"
   ]
  },
  {
   "cell_type": "code",
   "execution_count": null,
   "metadata": {
    "id": "D5pmjhu_pves"
   },
   "outputs": [],
   "source": [
    "\n",
    "batch_size = 32\n",
    "num_epochs = 20\n",
    "kernel_size = 4\n",
    "pool_size = 2\n",
    "conv_depth_1 = 32\n",
    "conv_depth_2 = 64\n",
    "drop_prob_1 = 0.25\n",
    "drop_prob_2 = 0.5\n",
    "hidden_size = 512\n",
    "\n",
    "size = 400\n",
    "img_size = 50\n"
   ]
  },
  {
   "cell_type": "code",
   "execution_count": null,
   "metadata": {},
   "outputs": [],
   "source": [
    "class CustomCallback(Callback):\n",
    "    def __init__(self, interval, data, labels):\n",
    "        super(CustomCallback, self).__init__()\n",
    "        self.interval = interval\n",
    "        self.data = data\n",
    "        self.labels = labels\n",
    "        self.d = {\"epoch\": [], \"ix\": [], \"class\": [], \"acc\": [], \"err\": []}\n",
    "#         self.acc_fn = accuracy_function\n",
    "        \n",
    "    def on_train_end(self, logs=None):\n",
    "        table = pandas.DataFrame(data=self.d)\n",
    "        table.to_csv(\"table.csv\")\n",
    "    \n",
    "    def on_epoch_end(self, epoch, logs=None):\n",
    "        n_epochs = self.params[\"epochs\"]\n",
    "        if epoch % self.interval == 0 or epoch == n_epochs - 1:\n",
    "            pred = self.model.predict(self.data)\n",
    "            acc = 1 - abs(self.labels - pred)\n",
    "            acc= np.mean(acc,axis=1)\n",
    "            f_loss = keras.losses.get(self.model.loss)\n",
    "            losses = np.asarray(f_loss(self.labels, pred))\n",
    "            min_ix = np.argmin(acc)\n",
    "            min_acc = acc.flatten()[min_ix]\n",
    "            min_loss = losses[min_ix]\n",
    "            min_class = self.labels.flatten()[min_ix]\n",
    "            self.d[\"epoch\"].append(epoch)\n",
    "            self.d[\"ix\"].append(min_ix)\n",
    "            self.d[\"class\"].append(int(min_class))\n",
    "            self.d[\"acc\"].append(min_acc)\n",
    "            self.d[\"err\"].append(min_loss)\n",
    "    "
   ]
  },
  {
   "cell_type": "code",
   "execution_count": null,
   "metadata": {
    "colab": {
     "base_uri": "https://localhost:8080/"
    },
    "id": "ozb3IOfNpzG5",
    "outputId": "d6fa8c22-115e-416a-b722-4180f03651f2"
   },
   "outputs": [],
   "source": [
    "data, labels = var5.gen_data(size,img_size)\n",
    "# labels.reshape(labels.size)\n",
    "data, labels = shuffle(data,labels)\n",
    "num_classes = np.unique(labels).shape[0]\n",
    "le.fit(labels)\n",
    "labels = le.transform(labels)\n",
    "labels = utils.to_categorical(labels, num_classes) # One-hot encode the labels\n"
   ]
  },
  {
   "cell_type": "code",
   "execution_count": null,
   "metadata": {
    "colab": {
     "base_uri": "https://localhost:8080/"
    },
    "id": "gYD7bYyRp6EO",
    "outputId": "919d88aa-b834-43aa-a62c-66d3cdf93754"
   },
   "outputs": [],
   "source": [
    "inp = Input(shape=(img_size, img_size,1))\n",
    "\n",
    "# Conv [32] -> Conv [32] -> Pool (with dropout on the pooling layer)\n",
    "layer = Convolution2D(conv_depth_1, (kernel_size, kernel_size), padding='same', activation='relu')(inp)\n",
    "layer = Convolution2D(conv_depth_1, (kernel_size, kernel_size), padding='same', activation='relu')(layer)\n",
    "layer = MaxPooling2D(pool_size=(pool_size, pool_size))(layer)\n",
    "layer = Dropout(drop_prob_1)(layer)\n",
    "\n",
    "# Conv [64] -> Conv [64] -> Pool (with dropout on the pooling layer)\n",
    "layer = Convolution2D(conv_depth_2, (kernel_size, kernel_size), padding='same', activation='relu')(inp)\n",
    "layer = Convolution2D(conv_depth_2, (kernel_size, kernel_size), padding='same', activation='relu')(layer)\n",
    "layer = MaxPooling2D(pool_size=(pool_size, pool_size))(layer)\n",
    "layer = Dropout(drop_prob_1)(layer)\n",
    "\n",
    "\n",
    "flat = Flatten()(layer)\n",
    "\n",
    "layer = Dense(hidden_size, activation='relu')(flat)\n",
    "layer = Dropout(drop_prob_2)(layer)\n",
    "out = Dense(num_classes, activation='softmax')(layer)\n",
    "\n",
    "\n",
    "model = Model(inputs=inp, outputs=out)\n",
    "\n",
    "model.compile(loss='categorical_crossentropy',\n",
    "              optimizer='adam',\n",
    "              metrics=['accuracy'])\n",
    "\n",
    "H = model.fit(data,labels,\n",
    "              batch_size=batch_size,\n",
    "              epochs=num_epochs,\n",
    "              verbose=1,\n",
    "              validation_split=.1,\n",
    "              callbacks = [CustomCallback(num_epochs//5, data, labels)])\n",
    "\n",
    "model.evaluate(data, labels, verbose=1)"
   ]
  },
  {
   "cell_type": "code",
   "execution_count": null,
   "metadata": {},
   "outputs": [],
   "source": []
  },
  {
   "cell_type": "code",
   "execution_count": null,
   "metadata": {},
   "outputs": [],
   "source": []
  },
  {
   "cell_type": "code",
   "execution_count": null,
   "metadata": {},
   "outputs": [],
   "source": []
  }
 ],
 "metadata": {
  "accelerator": "GPU",
  "colab": {
   "name": "pr6.ipynb",
   "provenance": []
  },
  "kernelspec": {
   "display_name": "NN_conda",
   "language": "python",
   "name": "nn_conda"
  },
  "language_info": {
   "codemirror_mode": {
    "name": "ipython",
    "version": 3
   },
   "file_extension": ".py",
   "mimetype": "text/x-python",
   "name": "python",
   "nbconvert_exporter": "python",
   "pygments_lexer": "ipython3",
   "version": "3.8.8"
  }
 },
 "nbformat": 4,
 "nbformat_minor": 4
}
